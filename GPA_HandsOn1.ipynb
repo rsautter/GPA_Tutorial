{
  "nbformat": 4,
  "nbformat_minor": 0,
  "metadata": {
    "colab": {
      "provenance": [],
      "authorship_tag": "ABX9TyMJQxZFHz2vvpHxMOyZQpEJ",
      "include_colab_link": true
    },
    "kernelspec": {
      "name": "python3",
      "display_name": "Python 3"
    },
    "language_info": {
      "name": "python"
    }
  },
  "cells": [
    {
      "cell_type": "markdown",
      "metadata": {
        "id": "view-in-github",
        "colab_type": "text"
      },
      "source": [
        "<a href=\"https://colab.research.google.com/github/rsautter/GPA_Tutorial/blob/main/GPA_HandsOn1.ipynb\" target=\"_parent\"><img src=\"https://colab.research.google.com/assets/colab-badge.svg\" alt=\"Open In Colab\"/></a>"
      ]
    },
    {
      "cell_type": "code",
      "execution_count": 1,
      "metadata": {
        "id": "fH_pTBWBfTCp",
        "outputId": "b4b88892-feb7-4a0e-8562-cd550e428fd7",
        "colab": {
          "base_uri": "https://localhost:8080/"
        }
      },
      "outputs": [
        {
          "output_type": "stream",
          "name": "stdout",
          "text": [
            "Looking in indexes: https://pypi.org/simple, https://us-python.pkg.dev/colab-wheels/public/simple/\n",
            "Collecting git+https://github.com/rsautter/GPA\n",
            "  Cloning https://github.com/rsautter/GPA to /tmp/pip-req-build-tgiqeh2g\n",
            "  Running command git clone --filter=blob:none --quiet https://github.com/rsautter/GPA /tmp/pip-req-build-tgiqeh2g\n",
            "  Resolved https://github.com/rsautter/GPA to commit cfcc3c34b5acbcb95e0f61c41dc26c1d0a2067c4\n",
            "  Installing build dependencies ... \u001b[?25l\u001b[?25hdone\n",
            "  Getting requirements to build wheel ... \u001b[?25l\u001b[?25hdone\n",
            "  Preparing metadata (pyproject.toml) ... \u001b[?25l\u001b[?25hdone\n",
            "Building wheels for collected packages: GPA\n",
            "  Building wheel for GPA (pyproject.toml) ... \u001b[?25l\u001b[?25hdone\n",
            "  Created wheel for GPA: filename=GPA-3.4-cp310-cp310-linux_x86_64.whl size=2272725 sha256=ced8ba3361f1c9927c4e40e318db78da5aa1aee1eed2d49ed3437e929e2b7089\n",
            "  Stored in directory: /tmp/pip-ephem-wheel-cache-x555hqcn/wheels/8b/55/b6/4d841dd9660865970155bd3c405b33625122913220d28e682e\n",
            "Successfully built GPA\n",
            "Installing collected packages: GPA\n",
            "Successfully installed GPA-3.4\n"
          ]
        }
      ],
      "source": [
        "  !pip install git+https://github.com/rsautter/GPA"
      ]
    },
    {
      "cell_type": "code",
      "source": [
        "import numpy as np\n",
        "import matplotlib.pyplot as plt\n",
        "import GPA "
      ],
      "metadata": {
        "id": "c8aHvrivgFMp"
      },
      "execution_count": 2,
      "outputs": []
    },
    {
      "cell_type": "markdown",
      "source": [
        "# Gradient Pattern Analysis (GPA)\n"
      ],
      "metadata": {
        "id": "PDfzmUaBuKhB"
      }
    },
    {
      "cell_type": "markdown",
      "source": [
        "# 1. Fundamental Matrices"
      ],
      "metadata": {
        "id": "vkDvkIq2fXVC"
      }
    },
    {
      "cell_type": "markdown",
      "source": [
        "In the code below, a GPA object is being created. The constructor method of the GPA class takes the tolerance parameter as input, which is a normalized ."
      ],
      "metadata": {
        "id": "U8wV2f95tpKX"
      }
    },
    {
      "cell_type": "code",
      "source": [
        "ga = GPA(0.03)"
      ],
      "metadata": {
        "id": "EVqs3hLOtmFQ"
      },
      "execution_count": null,
      "outputs": []
    },
    {
      "cell_type": "code",
      "source": [
        "m1 = np.arra"
      ],
      "metadata": {
        "id": "KAsBnCp3tief"
      },
      "execution_count": null,
      "outputs": []
    },
    {
      "cell_type": "markdown",
      "source": [
        "# 2. SLOAN + Galaxy Zoo 1 "
      ],
      "metadata": {
        "id": "4ehsN39UfabO"
      }
    },
    {
      "cell_type": "code",
      "source": [],
      "metadata": {
        "id": "pQ9-P1Ubfj2y"
      },
      "execution_count": null,
      "outputs": []
    },
    {
      "cell_type": "markdown",
      "source": [
        "# 3. Extragalactic Radio Sources\n",
        "\n"
      ],
      "metadata": {
        "id": "Rur1SWGJflTj"
      }
    }
  ]
}