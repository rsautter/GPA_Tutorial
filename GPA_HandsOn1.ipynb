{
  "nbformat": 4,
  "nbformat_minor": 0,
  "metadata": {
    "colab": {
      "provenance": [],
      "authorship_tag": "ABX9TyMuzbgBlW1IbF7vpzJr7ouM",
      "include_colab_link": true
    },
    "kernelspec": {
      "name": "python3",
      "display_name": "Python 3"
    },
    "language_info": {
      "name": "python"
    }
  },
  "cells": [
    {
      "cell_type": "markdown",
      "metadata": {
        "id": "view-in-github",
        "colab_type": "text"
      },
      "source": [
        "<a href=\"https://colab.research.google.com/github/rsautter/GPA_Tutorial/blob/main/GPA_HandsOn1.ipynb\" target=\"_parent\"><img src=\"https://colab.research.google.com/assets/colab-badge.svg\" alt=\"Open In Colab\"/></a>"
      ]
    },
    {
      "cell_type": "code",
      "execution_count": null,
      "metadata": {
        "id": "fH_pTBWBfTCp"
      },
      "outputs": [],
      "source": [
        "!pip install git+https://github.com/rsautter/GPA"
      ]
    },
    {
      "cell_type": "code",
      "source": [
        "import numpy as np\n",
        "import matplotlib.pyplot as plt\n",
        "import GPA "
      ],
      "metadata": {
        "id": "c8aHvrivgFMp"
      },
      "execution_count": null,
      "outputs": []
    },
    {
      "cell_type": "markdown",
      "source": [
        "# 1. Fundamental Matrices"
      ],
      "metadata": {
        "id": "vkDvkIq2fXVC"
      }
    },
    {
      "cell_type": "markdown",
      "source": [
        "# 2. SLOAN + Galaxy Zoo 1 "
      ],
      "metadata": {
        "id": "4ehsN39UfabO"
      }
    },
    {
      "cell_type": "code",
      "source": [],
      "metadata": {
        "id": "pQ9-P1Ubfj2y"
      },
      "execution_count": null,
      "outputs": []
    },
    {
      "cell_type": "markdown",
      "source": [
        "# 3. Extragalactic Radio Sources\n",
        "\n"
      ],
      "metadata": {
        "id": "Rur1SWGJflTj"
      }
    }
  ]
}